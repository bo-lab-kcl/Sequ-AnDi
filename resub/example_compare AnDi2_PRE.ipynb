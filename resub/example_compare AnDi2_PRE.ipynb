{
 "cells": [
  {
   "cell_type": "markdown",
   "id": "33b4585f-1eea-4e6b-a621-15d3c36b3a1c",
   "metadata": {},
   "source": [
    "# Comparison between the network developed for AnDi2024 and the one of PHYSICAL REVIEW E 100, 010102(R) (2019)"
   ]
  },
  {
   "cell_type": "code",
   "execution_count": 1,
   "id": "8bfbe461-7f41-47cd-a236-6aca61aa3b48",
   "metadata": {},
   "outputs": [],
   "source": [
    "import csv as csv\n",
    "import numpy as np\n",
    "import scipy \n",
    "from scipy import stats\n",
    "from scipy import optimize\n",
    "from scipy.optimize import curve_fit\n",
    "import pandas as pd\n",
    "from pandas import Series, DataFrame\n",
    "import matplotlib as mpl\n",
    "import matplotlib.pyplot as plt\n",
    "import glob\n",
    "# from fbm import FBM\n",
    "from sklearn.metrics import mean_absolute_error\n",
    "# import plotly\n",
    "# import plotly.plotly as py\n",
    "# import plotly.graph_objs as go\n",
    "# import seaborn as sns\n",
    "from matplotlib import gridspec\n",
    "from matplotlib import cm, rc\n",
    "\n",
    "\n",
    "import keras\n",
    "from keras.preprocessing.sequence import TimeseriesGenerator\n",
    "from keras.models import Sequential\n",
    "from keras.layers import Dense, Dropout, Activation\n",
    "from keras.optimizers import SGD\n",
    "from keras import losses, metrics\n",
    "from keras import backend as k\n",
    "\n",
    "from keras.models import Sequential\n",
    "from keras.layers import Dense\n",
    "from keras.layers import SimpleRNN\n",
    "from keras.layers import LSTM\n",
    "from keras.layers import GRU\n",
    "from keras.layers import Dropout\n",
    "from keras.layers import Bidirectional\n",
    "from keras.models import load_model\n",
    "import datetime as dtim\n",
    "from datetime import datetime\n",
    "from matplotlib.colors import LogNorm\n",
    "from matplotlib.ticker import NullFormatter\n",
    "from keras.utils import plot_model\n"
   ]
  },
  {
   "cell_type": "code",
   "execution_count": 2,
   "id": "4e21f0d7-790d-4b2f-b8ca-b5236c1ccb19",
   "metadata": {},
   "outputs": [],
   "source": [
    "def nice_fig(xla, yla, xli, yli, size, fs=12): \n",
    "    rc('font',**{'family':'sans-serif','sans-serif':['Helvetica']})\n",
    "    rc('text', usetex=True)\n",
    "    plt.figure(figsize=(size[0],size[1]))\n",
    "    plt.xlabel(xla,fontsize=fs)\n",
    "    plt.ylabel(yla,fontsize=fs)\n",
    "    plt.xlim(xli)\n",
    "    plt.ylim(yli)\n",
    "    plt.tick_params(axis='both', which='major', labelsize=fs)\n"
   ]
  },
  {
   "cell_type": "markdown",
   "id": "8d86d2b5-f587-4aaa-9b92-6e6f95e2f7ee",
   "metadata": {},
   "source": [
    "Below are some functions to compute the MSD and prepare the data so that the network from the PRE works"
   ]
  },
  {
   "cell_type": "code",
   "execution_count": 3,
   "id": "77ef19b0-48b2-4654-8107-a5cd611a95ae",
   "metadata": {},
   "outputs": [],
   "source": [
    "#FUNCTION TO TURN SPLIT DATA IN NORMALIZED SUB-TRAJECTORIES, choosing only data corresponding to a certain h\n",
    "#USING TIMES TOO Otpion to normalize!!\n",
    "#Should find a more elegant way of using the hmin and hmax, now i have to express it anyway\n",
    "def data_split(data_tot,meas_times,labels,start_row,num_row,traj_len,n_in,n_samples,hmin=0.,hmax=1,limith=False,normalization=True,p_p=1):\n",
    "\n",
    "    j=0\n",
    "\n",
    "\n",
    "\n",
    "    tr=data_tot[start_row:num_row+start_row]\n",
    "    sel_times=meas_times[start_row:num_row+start_row]\n",
    "    tar=labels[start_row:num_row+start_row]\n",
    "\n",
    "    if(limith==True):\n",
    "        \n",
    "        tr=tr[np.where((tar<=hmax) & (tar >=hmin))]\n",
    "        sel_times=sel_times[np.where((tar<=hmax) & (tar >=hmin))]\n",
    "        tar=tar[((tar<=hmax) & (tar >=hmin))]\n",
    "\n",
    "    if(n_samples>1):\n",
    "        \n",
    "        gap=int((data_tot.shape[1]-n_in-traj_len)/(n_samples-1))\n",
    "    else:\n",
    "        gap=0    \n",
    "    print(\"n initial=\",n_in,\"gap=\",gap)\n",
    "    if(gap<traj_len):\n",
    "        print(\"warning!! Overlapping trajectories. gap=\",gap,\"trajectory length=\",traj_len,\"final_point=\",(n_samples-1)*gap+n_in+traj_len,\"data length\",data_tot.shape[1])\n",
    "\n",
    "    if(normalization==True):\n",
    "        trj=tr[:,n_in+gap*j:n_in+gap*j+traj_len]\n",
    "        test_data_new=(trj-(np.tile(np.transpose([np.mean(trj,axis=1)]),(1,traj_len))))/(np.tile(np.transpose([np.std(trj,axis=1)]),(1,traj_len)))\n",
    "        test_times=np.cumsum(np.insert(np.diff(sel_times[:,n_in+gap*j:n_in+gap*j+traj_len]),0,0, axis=1),axis=1)\n",
    "#train_data_new=(data_tot[start_row:30000,:traj_len]-(np.tile(np.transpose([np.mean(data_tot[start_row:30000,:traj_len],axis=1)]),(1,traj_len))))/(np.tile(np.transpose([np.std(data_tot[start_row:30000,:traj_len],axis=1)]),(1,traj_len)))\n",
    "        test_labels_large=tar\n",
    "#test_labels=labels[start_row:num_row+start_row]\n",
    "        #print(test_data_new.shape)\n",
    "        #print(\"trj=\",trj.shape)\n",
    "        #print(\"sart=\",n_in+gap*j,\"end=\",n_in+gap*j+traj_len)\n",
    "        for j in range(1,n_samples):\n",
    "            trj=tr[:,n_in+gap*j:n_in+gap*j+traj_len]\n",
    "            #print(\"sart=\",n_in+gap*j,\"end=\",n_in+gap*j+traj_len)\n",
    "            #print(trj.shape)\n",
    "            test_data_new=np.concatenate((test_data_new,(trj-(np.tile(np.transpose([np.mean(trj,axis=1)]),(1,traj_len))))/(np.tile(np.transpose([np.std(trj,axis=1)]),(1,traj_len)))),axis=0)\n",
    "    #test_data_new=np.concatenate((test_data_new,(data_tot2[:,n_in+gap*j:n_in+gap*j+traj_len]-np.mean(data_tot2[:,n_in+gap*j:n_in+gap*j+traj_len]))/np.std(data_tot2[:,n_in+gap*j:n_in+gap*j+traj_len])),axis=0)\n",
    "            test_labels_large=np.append(test_labels_large,tar)\n",
    "            test_times=np.concatenate((test_times,np.cumsum(np.insert(np.diff(sel_times[:,n_in+gap*j:n_in+gap*j+traj_len]),0,0, axis=1),axis=1)),axis=0)\n",
    "    #test_labels=np.append(test_labels,many_label2)  \n",
    "    else:\n",
    "        test_data_new=tr[:,n_in+gap*j:n_in+gap*j+traj_len]\n",
    "        test_times=np.cumsum(np.insert(np.diff(sel_times[:,n_in+gap*j:n_in+gap*j+traj_len]),0,0, axis=1),axis=1)\n",
    "#train_data_new=(data_tot[start_row:30000,:traj_len]-(np.tile(np.transpose([np.mean(data_tot[start_row:30000,:traj_len],axis=1)]),(1,traj_len))))/(np.tile(np.transpose([np.std(data_tot[start_row:30000,:traj_len],axis=1)]),(1,traj_len)))\n",
    "        test_labels_large=tar\n",
    "#test_labels=labels[start_row:num_row+start_row]\n",
    "        for j in range(1,n_samples):\n",
    "            test_data_new=np.concatenate((test_data_new,tr[:,n_in+gap*j:n_in+gap*j+traj_len]),axis=0)\n",
    "    #test_data_new=np.concatenate((test_data_new,(data_tot2[:,n_in+gap*j:n_in+gap*j+traj_len]-np.mean(data_tot2[:,n_in+gap*j:n_in+gap*j+traj_len]))/np.std(data_tot2[:,n_in+gap*j:n_in+gap*j+traj_len])),axis=0)\n",
    "            test_labels_large=np.append(test_labels_large,tar)\n",
    "            test_times=np.concatenate((test_times,np.cumsum(np.insert(np.diff(sel_times[:,n_in+gap*j:n_in+gap*j+traj_len]),0,0, axis=1),axis=1)),axis=0)\n",
    "    #test_labels=np.append(test_labels,many_label2) \n",
    "        \n",
    "\n",
    "\n",
    "#normalization of time stamps, potentially dangerous!!!!!!!\n",
    "    test_times=test_times*p_p/traj_len\n",
    "    \n",
    "#RESHAPING\n",
    "    test_set=np.transpose(np.array((np.transpose(test_data_new),np.transpose(test_times))))  \n",
    "    return test_set, test_labels_large, test_data_new,test_times\n",
    "   "
   ]
  },
  {
   "cell_type": "code",
   "execution_count": 4,
   "id": "0c383f3a-40e8-456d-85a1-b54875206b35",
   "metadata": {},
   "outputs": [],
   "source": [
    "#Function to compute the mean square displacement of a trajectory \"trace\". Returns a vector with \"max_len\" entries corresponding to the MSD with delays of 1,2,... \"max_len\"\n",
    "def msd_expf( trace, max_len ):\n",
    "    dada=[]\n",
    "    for i in range(1,max_len+1):\n",
    "        dada.append(np.mean((trace[i:]-trace[:-i])**2))\n",
    "   # A = np.vstack([np.log(np.arange(1,max_len)/1000), np.ones(len(msd_exp))]).T\n",
    "   # H=(np.linalg.lstsq(A, np.log(msd_exp),rcond=None )[0])[0]/2  \n",
    "\n",
    "    return  np.asarray(dada);    \n",
    "    \n",
    "   \n",
    "    \n",
    "\n",
    "#Function to compute the H exponent by a linear (Least Square) fit of the loglog plot. Maybe one should consider that longer delays have larger delays have larger uncertainties.\n",
    "def h_exp (ff ,nmax ):\n",
    "    \n",
    "\n",
    "    A = np.vstack([np.log(np.arange(1,nmax+1)/1000), np.ones(len(msd_expf( ff,nmax )))]).T\n",
    "    H=(np.linalg.lstsq(A, np.log(msd_expf( ff,nmax )),rcond=None )[0])[0]/2  \n",
    "\n",
    "    return  H;\n",
    "\n",
    "\n",
    "\n",
    "#Function to compute the H exponent by a weighted least square\n",
    "#function to be fitted\n",
    "def flin(x, a, b):\n",
    "    \n",
    "    return a*x+b\n",
    "\n",
    "def h_w (ff ,nmax ,ww):\n",
    "    \n",
    "    if ww==0:\n",
    "        popt, pcov = scipy.optimize.curve_fit(flin,np.log(np.arange(1,nmax+1)),np.log(msd_expf( ff,nmax )))\n",
    "        \n",
    "    else:\n",
    "        lala=np.arange(1,nmax+1)\n",
    "        ss=1/np.sqrt(len(ff)-lala)\n",
    "        popt, pcov = scipy.optimize.curve_fit(flin,np.log(np.arange(1,nmax+1)),np.log(msd_expf( ff,nmax )),sigma=ss)\n",
    "        \n",
    "    \n",
    "    \n",
    "    \n",
    "\n",
    "    return  popt[0]/2"
   ]
  },
  {
   "cell_type": "code",
   "execution_count": 5,
   "id": "ae8025dd-179c-4c16-8db8-9440d56af427",
   "metadata": {},
   "outputs": [],
   "source": [
    "def my_atan(x1,x2):\n",
    "    y=np.arctan2(x1,x2)\n",
    "    b=y<0\n",
    "    c=b.astype(int)*(2*np.pi)\n",
    "    d=y+c \n",
    "    return    d;"
   ]
  },
  {
   "cell_type": "markdown",
   "id": "7c6ca2f5-26aa-498a-9f60-1a9820dcf5ff",
   "metadata": {},
   "source": [
    "Loading the network from the PRE"
   ]
  },
  {
   "cell_type": "code",
   "execution_count": 6,
   "id": "4cf284b9-208e-4999-8126-46df4fce91c6",
   "metadata": {},
   "outputs": [],
   "source": [
    "model_change256=load_model('/Users/k2262435/Downloads/ad_rnn/nets_for_plot/change256SC.h5')"
   ]
  },
  {
   "cell_type": "markdown",
   "id": "ac152692-04f7-422c-88fc-5f22f82e16c0",
   "metadata": {},
   "source": [
    "Loading the example trajectory and label"
   ]
  },
  {
   "cell_type": "code",
   "execution_count": 7,
   "id": "9c903da5-464f-4128-98c2-95acfb9e7fa6",
   "metadata": {},
   "outputs": [],
   "source": [
    "paper_traj = np.load('paperTraj.npy')\n",
    "paper_label = np.load('paperTrajLabel.npy')                     "
   ]
  },
  {
   "cell_type": "code",
   "execution_count": 56,
   "id": "3209abae-0920-44fb-9922-9d905c3ca524",
   "metadata": {},
   "outputs": [
    {
     "data": {
      "text/plain": [
       "(200,)"
      ]
     },
     "execution_count": 56,
     "metadata": {},
     "output_type": "execute_result"
    }
   ],
   "source": [
    "np.shape(paper_traj[1])"
   ]
  },
  {
   "cell_type": "code",
   "execution_count": 59,
   "id": "3c0a3bf7-f2d7-4444-a01a-15b00abd84c9",
   "metadata": {},
   "outputs": [
    {
     "data": {
      "text/plain": [
       "(2, 200)"
      ]
     },
     "execution_count": 59,
     "metadata": {},
     "output_type": "execute_result"
    }
   ],
   "source": [
    "np.shape(paper_label)"
   ]
  },
  {
   "cell_type": "code",
   "execution_count": 8,
   "id": "d2319544-ca39-47a3-ac23-4f0c49618e74",
   "metadata": {},
   "outputs": [
    {
     "data": {
      "text/plain": [
       "[<matplotlib.lines.Line2D at 0x177398690>]"
      ]
     },
     "execution_count": 8,
     "metadata": {},
     "output_type": "execute_result"
    },
    {
     "data": {
      "image/png": "[encoded data removed]",
      "text/plain": [
       "<Figure size 640x480 with 1 Axes>"
      ]
     },
     "metadata": {},
     "output_type": "display_data"
    }
   ],
   "source": [
    "plt.plot(paper_traj[1]/70)\n",
    "plt.plot(paper_traj[0]/70)\n",
    "\n",
    "plt.plot(paper_label[0])"
   ]
  },
  {
   "cell_type": "markdown",
   "id": "8a04bbd3-fee3-4c1b-9bbf-535437048f8a",
   "metadata": {},
   "source": [
    "Since the trajectory is shorter thatn 256, which is what the old network used let us repeat it twice"
   ]
  },
  {
   "cell_type": "code",
   "execution_count": 9,
   "id": "7b8fe8f9-39e1-46d1-8c65-fdcc1350975f",
   "metadata": {},
   "outputs": [],
   "source": [
    "shift = paper_traj[:, -1] - paper_traj[:, 0]"
   ]
  },
  {
   "cell_type": "code",
   "execution_count": 10,
   "id": "20b076b7-feaa-4af7-b51a-f6e9389cf9b2",
   "metadata": {},
   "outputs": [
    {
     "data": {
      "text/plain": [
       "array([4.43489915, 0.48475306])"
      ]
     },
     "execution_count": 10,
     "metadata": {},
     "output_type": "execute_result"
    }
   ],
   "source": [
    "shift"
   ]
  },
  {
   "cell_type": "code",
   "execution_count": 11,
   "id": "d1007844-3c0c-4050-88a2-9d72e79d266a",
   "metadata": {},
   "outputs": [],
   "source": [
    "arr_shifted = paper_traj + shift[:, np.newaxis]"
   ]
  },
  {
   "cell_type": "code",
   "execution_count": 12,
   "id": "d7d07d0e-5c31-4f07-af55-742795bd690d",
   "metadata": {},
   "outputs": [],
   "source": [
    "tr=np.concatenate((paper_traj,arr_shifted),axis=1)\n",
    "label = np.concatenate((paper_label[0],paper_label[0]))"
   ]
  },
  {
   "cell_type": "code",
   "execution_count": 13,
   "id": "dc352015-6989-4a6e-a607-fc96839658b2",
   "metadata": {},
   "outputs": [
    {
     "data": {
      "text/plain": [
       "(2, 400)"
      ]
     },
     "execution_count": 13,
     "metadata": {},
     "output_type": "execute_result"
    }
   ],
   "source": [
    "np.shape(tr)"
   ]
  },
  {
   "cell_type": "code",
   "execution_count": 14,
   "id": "0f5ddb16-7bb9-48d4-97f9-61aa88ebebee",
   "metadata": {},
   "outputs": [
    {
     "data": {
      "text/plain": [
       "[<matplotlib.lines.Line2D at 0x1774056d0>]"
      ]
     },
     "execution_count": 14,
     "metadata": {},
     "output_type": "execute_result"
    },
    {
     "data": {
      "image/png": "[encoded data removed]",
      "text/plain": [
       "<Figure size 640x480 with 1 Axes>"
      ]
     },
     "metadata": {},
     "output_type": "display_data"
    }
   ],
   "source": [
    "plt.plot(paper_traj[1]/70)\n",
    "plt.plot(paper_traj[0]/70)\n",
    "plt.plot(tr[1]/70)\n",
    "plt.plot(tr[0]/70)\n",
    "# plt.plot(paper_label[1])"
   ]
  },
  {
   "cell_type": "markdown",
   "id": "0b5f7da9-e765-4a95-935e-1655d88b2176",
   "metadata": {},
   "source": [
    "Let us analyse how a sliding window of length 256 would perform on the example trajectory. We start using the x component only."
   ]
  },
  {
   "cell_type": "code",
   "execution_count": 27,
   "id": "05d3211d-f2a6-4163-9f90-a3dce2e6aa31",
   "metadata": {},
   "outputs": [
    {
     "name": "stdout",
     "output_type": "stream",
     "text": [
      "n initial= 0 gap= 0\n",
      "warning!! Overlapping trajectories. gap= 0 trajectory length= 256 final_point= 256 data length 256\n",
      "5/5 [==============================] - 0s 21ms/step\n"
     ]
    },
    {
     "name": "stderr",
     "output_type": "stream",
     "text": [
      "/var/folders/q1/rhj_j2hj7t5121p5rh10b1p00000gq/T/ipykernel_11027/4085194406.py:35: RuntimeWarning: Mean of empty slice\n",
      "  lamx=np.nanmean(pr_alph,axis=0)\n",
      "/var/folders/q1/rhj_j2hj7t5121p5rh10b1p00000gq/T/ipykernel_11027/4085194406.py:99: RuntimeWarning: Mean of empty slice\n",
      "  lamsd32=np.nanmean(msd_alph32,axis=0)\n",
      "/var/folders/q1/rhj_j2hj7t5121p5rh10b1p00000gq/T/ipykernel_11027/4085194406.py:100: RuntimeWarning: Mean of empty slice\n",
      "  lamsd64=np.nanmean(msd_alph64,axis=0)\n",
      "/var/folders/q1/rhj_j2hj7t5121p5rh10b1p00000gq/T/ipykernel_11027/4085194406.py:101: RuntimeWarning: Mean of empty slice\n",
      "  lamsd256=np.nanmean(msd_alph256,axis=0)\n"
     ]
    },
    {
     "data": {
      "image/png": "[encoded data removed]",
      "text/plain": [
       "<Figure size 360x360 with 3 Axes>"
      ]
     },
     "metadata": {},
     "output_type": "display_data"
    }
   ],
   "source": [
    "\n",
    "sk=1\n",
    "timess=np.array([1023])\n",
    "#fig, (ax0, ax1, ax2) = plt.subplots(3,figsize=(10,10),sharex=True)\n",
    "fig, (ax0, ax1, ax2) = plt.subplots(3,figsize=(9/2.5,9/2.5),sharex=True)\n",
    "for jj in range(1):\n",
    "    \n",
    "    traj_len=256\n",
    "    belplot=tr[0]\n",
    "    times_c=np.empty((0,traj_len))\n",
    "    seg=np.empty((0,traj_len))\n",
    "    lab_c=np.empty((0,5))\n",
    "    for j in range(0,len(belplot)-traj_len):\n",
    "\n",
    "        times=np.arange(j,j+traj_len)\n",
    "        seg=np.append(seg,[belplot[times]],axis=0)\n",
    "        times_c=np.append(times_c,[times],axis=0)\n",
    "        lab_c=np.append(lab_c,[np.array([0,0,0,0,0])],axis=0)\n",
    "    data_c,label_c_norm,traj_c,times_c_norm=data_split(seg,times_c,labels=lab_c,\\\n",
    "                                                       start_row=0,num_row=len(belplot)-traj_len,\\\n",
    "                                                       traj_len=traj_len,n_in=0,n_samples=1,p_p=1,\\\n",
    "                                                       hmin=0.25,hmax=0.75,limith=False,normalization=True)\n",
    "    pr_c_50_y=model_change256.predict(data_c)\n",
    "\n",
    "\n",
    "    fir2=(int(np.round(traj_len*my_atan(pr_c_50_y[0,3].flatten(),pr_c_50_y[0,4].flatten())/(2*np.pi))))\n",
    "    pr_alph=np.concatenate((pr_c_50_y[0,0]*np.ones(fir2),pr_c_50_y[0,1]*np.ones(traj_len-fir2),np.full(len(pr_c_50_y),np.nan)))\n",
    "\n",
    "    for i in range(1,len(pr_c_50_y)):\n",
    "        bef=np.full(i,np.nan)\n",
    "        aft=np.full(len(pr_c_50_y)-i,np.nan)\n",
    "        fir2=(int(np.round(traj_len*my_atan(pr_c_50_y[i,3].flatten(),pr_c_50_y[i,4].flatten())/(2*np.pi))))\n",
    "        pr_alph=(np.concatenate((pr_alph,bef,pr_c_50_y[i,0]*np.ones(fir2),pr_c_50_y[i,1]*np.ones(traj_len-fir2),aft)))\n",
    "        #print(fir2)\n",
    "    pr_alph=pr_alph.reshape(-1,traj_len+len(pr_c_50_y))    \n",
    "    lamx=np.nanmean(pr_alph,axis=0)\n",
    "    \n",
    "    \n",
    "    traj_len256=256\n",
    "    times_c256=np.empty((0,traj_len256))\n",
    "    seg=np.empty((0,traj_len256))\n",
    "    lab_c256=np.empty((0,5))\n",
    "    ltot=len(belplot)-traj_len256\n",
    "    for j in range(0,ltot):\n",
    "\n",
    "        times=np.arange(j,j+traj_len256)\n",
    "\n",
    "        if(j==0):\n",
    "            msd_alph256=np.concatenate((h_exp(belplot[times],5)*np.ones(traj_len256),np.full(ltot,np.nan)))\n",
    "        else:\n",
    "\n",
    "            bef=np.full(j,np.nan)\n",
    "            aft=np.full(ltot-j,np.nan)\n",
    "            #fir2=(int(np.round(traj_len*my_atan(pr_c[i,3].flatten(),pr_c[i,4].flatten())/(2*np.pi))))\n",
    "            msd_alph256=(np.concatenate((msd_alph256,bef,h_exp(belplot[times],5)*np.ones(traj_len256),aft)))\n",
    "    msd_alph256=msd_alph256.reshape(-1,traj_len256+ltot)\n",
    "    #print(pr_c256)\n",
    "    traj_len64=64\n",
    "    times_c64=np.empty((0,traj_len64))\n",
    "    seg=np.empty((0,traj_len64))\n",
    "    lab_c64=np.empty((0,5))\n",
    "    ltot=len(belplot)-traj_len64\n",
    "    for j in range(0,ltot):\n",
    "\n",
    "        times=np.arange(j,j+traj_len64)\n",
    "\n",
    "        if(j==0):\n",
    "            msd_alph64=np.concatenate((h_exp(belplot[times],5)*np.ones(traj_len64),np.full(ltot,np.nan)))\n",
    "        else:\n",
    "\n",
    "            bef=np.full(j,np.nan)\n",
    "            aft=np.full(ltot-j,np.nan)\n",
    "            #fir2=(int(np.round(traj_len*my_atan(pr_c[i,3].flatten(),pr_c[i,4].flatten())/(2*np.pi))))\n",
    "            msd_alph64=(np.concatenate((msd_alph64,bef,h_exp(belplot[times],5)*np.ones(traj_len64),aft)))\n",
    "    msd_alph64=msd_alph64.reshape(-1,traj_len64+ltot) \n",
    "    #print(pr_c64)    \n",
    "    \n",
    "\n",
    "    traj_len32=32\n",
    "    times_c32=np.empty((0,traj_len32))\n",
    "    seg=np.empty((0,traj_len32))\n",
    "    lab_c32=np.empty((0,5))\n",
    "    ltot=len(belplot)-traj_len32\n",
    "    for j in range(0,ltot):\n",
    "\n",
    "        times=np.arange(j,j+traj_len32)\n",
    "\n",
    "        if(j==0):\n",
    "            msd_alph32=np.concatenate((h_exp(belplot[times],5)*np.ones(traj_len32),np.full(ltot,np.nan)))\n",
    "        else:\n",
    "\n",
    "            bef=np.full(j,np.nan)\n",
    "            aft=np.full(ltot-j,np.nan)\n",
    "            #fir2=(int(np.round(traj_len*my_atan(pr_c[i,3].flatten(),pr_c[i,4].flatten())/(2*np.pi))))\n",
    "            msd_alph32=(np.concatenate((msd_alph32,bef,h_exp(belplot[times],5)*np.ones(traj_len32),aft)))\n",
    "    msd_alph32=msd_alph32.reshape(-1,traj_len32+ltot)\n",
    "    #print(pr_c32)    \n",
    "\n",
    "    \n",
    "    lamsd32=np.nanmean(msd_alph32,axis=0)\n",
    "    lamsd64=np.nanmean(msd_alph64,axis=0)\n",
    "    lamsd256=np.nanmean(msd_alph256,axis=0)\n",
    "    \n",
    "    #ax0.plot(super1_s[::sk,1],color=\"#e6661a\")\n",
    "    ax0.plot(np.arange(len(belplot))+jj/sk,belplot,\"-o\",markersize=0.3, linewidth=0.2, color=((jj%3)/3,((jj+1)%3)/3,((jj+2)%3)/3))#,color=\"blue\")\n",
    "    ax0.set_xlim(0,len(belplot))\n",
    "    # ax0.plot((exp_data_ch[:,1][:timess[0]]),color=my_col(test_targets[h]),label=\"$\\\\alpha$=%.2f\" %(2*test_targets[h]))\n",
    "    # ax0.plot(np.arange(timess[0],timess[1]),(exp_data_ch[:,1][timess[0]:timess[1]]),color=my_col(test_targets[l]),label=\"$\\\\alpha$=%.2f\" %(2*test_targets[l]))\n",
    "    #ax0.plot((exp_data_ch[:,1][:timess[0]]),color=my_col((1*0.75/2+0.75/2)),label=\"$\\\\alpha$=%.2f\" %(2*(1*0.75/2+0.75/2)))\n",
    "    #ax0.plot(np.arange(timess[0],timess[1]),(exp_data_ch[:,1][timess[0]:timess[1]]),color=my_col((0*0.75/2+0.75/2)),label=\"$\\\\alpha$=%.2f\" %(2*((0*0.75/2+0.75/2))))\n",
    "    #ax0.set_ylim(-0.00003,0)\n",
    "    #ax0.tick_params(labelsize=8)\n",
    "    ax0.set_xticks(np.arange(40,len(belplot),40))\n",
    "    #ax0.set_xticklabels([0,'',500,'',1000,'',1500,'',2000])\n",
    "\n",
    "\n",
    "    \n",
    "    # ax0.set_xticklabels([''])\n",
    "    ax0.set_yticklabels([])\n",
    "\n",
    "\n",
    "\n",
    "    \n",
    "    #ax0.set_yticks([-0.00003,-0.00001,0])\n",
    "    #ax0.set_ylabel(\"position\",fontsize=14)\n",
    "    # for i in range(1,39):\n",
    "    #     if(i%2==0):\n",
    "    #         ind=l\n",
    "    #     else:\n",
    "    #         ind=h\n",
    "    #     ax0.plot(np.arange(timess[i],timess[i+1]),exp_data_ch[:,1][timess[i]:timess[i+1]],color=my_col(ind*0.5+0.75/2))\n",
    "\n",
    "    # ax0.plot(np.arange(timess[i+1],len(exp_data_ch[:,1])),exp_data_ch[:,1][timess[i+1]:len(exp_data_ch[:,1])],color=my_col(ind*0.5+0.75/2))\n",
    "\n",
    "    #ax0.plot(np.arange(2200,2456),140*np.ones(256),color=\"k\")\n",
    "    #ax0.plot(exp_data_ch[:,1]-test_many_tr[l,:timess[7]])\n",
    "    #ax0.plot(exp_data_ch[:,1]-test_many_tr[h,:timess[7]])\n",
    "    #ax0.plot(exp_data_ch[:,1]2)\n",
    "    #ax0.scatter(timess[:7], exp_data_ch[:,1][timess[:7]])\n",
    "    #ax0.legend(fontsize=8)\n",
    "    #ax0.set_xlim(0,len(exp_data_ch[:,1]))\n",
    "    #fig.tight_layout() \n",
    "    ax0.tick_params(which='both', direction='in',bottom=True, top=True, left=True, right=True, labelsize=8)\n",
    "    #ax0.legend()\n",
    "    #fig, ax1 =plt.subplots(figsize=(9/2.5,3/2.5))\n",
    "    # ax1.scatter(np.arange(0,traj_len),2*pr_c_exp_NOC[:traj_len,0],0.5,color=\"blue\",marker='v',label=\"$\\\\hat{\\\\alpha}_1$\")\n",
    "    # ax1.scatter(np.arange(len(exp_data_ch[:,1])-traj_len,len(exp_data_ch[:,1])),2*pr_c_exp_NOC[-traj_len:,1],color=\"blue\",marker='^',label=\"$\\\\hat{\\\\alpha}_2$\")\n",
    "    #ax1.plot(np.arange(traj_len,len(exp_data_ch[:,1])-traj_len),(pr_c_exp_NOC[traj_len:,0]+pr_c_exp_NOC[:-traj_len,1]),color=\"blue\",label=\"$\\\\hat{\\\\alpha}_2$\")\n",
    "\n",
    "    # ax1.scatter(np.arange(len(exp_data_ch[:,1])-traj_len,len(exp_data_ch[:,1])),2*pr_c_exp[-traj_len:,1],color=\"#e6661a\",marker='^',label=\"$\\\\hat{\\\\alpha}_2$\")\n",
    "    # ax1.plot(np.arange(traj_len,len(exp_data_ch[:,1])-traj_len),(pr_c_exp[traj_len:,0]+pr_c_exp[:-traj_len,1]),color=\"#e6661a\",label=\"$\\\\hat{\\\\alpha}_2$\")\n",
    "\n",
    "    #ax1.plot(np.arange(traj_len,len(exp_data_ch[:,1])-traj_len),(pr_c_exp_a1a2[traj_len:,0]+pr_c_exp_a1a2[:-traj_len,1]),color=\"green\",label=\"$\\\\hat{\\\\alpha}_2$\")\n",
    "    #ax1.plot(np.arange(traj_len,len(exp_data_ch[:,1])-traj_len),(pr_c_exp_a1a2[traj_len:,0])*2,color=\"red\",label=\"$\\\\hat{\\\\alpha}_2$\")\n",
    "#     ax1.scatter(np.arange(0,traj_len)+jj/sk,2*(pr_c_50_y[:traj_len,0]),0.5,color=\"#e6661a\")#,color=((jj%3)/3,((jj+1)%3)/3,((jj+2)%3)/3))#,color=\"#e6661a\",label=\"$\\\\hat{\\\\alpha}_2$\")\n",
    "\n",
    "#     ax1.scatter(np.arange(traj_len+jj/sk,len(belplot)-traj_len),(pr_c_50_y[traj_len:,0]+pr_c_50_y[:-traj_len,1]),0.5,color=\"#e6661a\")#,color=\"#e6661a\",label=\"$\\\\hat{\\\\alpha}_2$\")\n",
    "\n",
    "#     ax1.scatter(np.arange(len(belplot)-traj_len,len(belplot))+jj/sk,2*(pr_c_50_y[-traj_len:,1]),0.5,color=\"#e6661a\")#,color=\"#e6661a\",label=\"$\\\\hat{\\\\alpha}_2$\")\n",
    "    ax1.plot(np.arange(0,len(belplot))+jj/sk,2*lamx,color=\"#e6661a\")\n",
    "\n",
    "    ax1.set_xlim(0,len(belplot))\n",
    "    ax1.set_ylim(0.,2)\n",
    "    ax1.set_yticklabels([])\n",
    "    #ax1.plot(2*lamsd64,'--',color=\"gray\")\n",
    "    ax1.plot(2*lamsd256,'--',color=\"gray\")\n",
    "    ax1.plot(label)\n",
    "    ax1.tick_params(which='both', direction='in',bottom=True, top=True, left=True, right=True, labelsize=8)\n",
    "    ax1.axhline(y=1,color='k')\n",
    "\n",
    "    #ax1.plot(a1plt[256:],color='g',label='$\\\\alpha_2$')\n",
    "    #ax1.legend(fontsize=8)\n",
    "    #ax2.legend(fontsize=8)\n",
    "        #\n",
    "        # for tt in timess:\n",
    "    #     if tt>255:\n",
    "    #         x=np.arange(tt-256,tt)\n",
    "    #         ax1.plot(x,1.5*np.ones(len(x)),\"b\",linewidth=1.0,alpha=0.5)#,label=\"$t-t_c$\")\n",
    "    #     else:\n",
    "    #         x=np.arange(0,tt)\n",
    "    # #x=np.arange(2378-256,2378)\n",
    "    #         ax1.plot(x,1.5*np.ones(len(x)),\"b\",linewidth=1.0,alpha=0.5)#,label=\"$t-t_c$\")\n",
    "    #ax1.scatter(timess-256,0.75*np.ones(len(timess)),color='k')\n",
    "    #ax1.scatter(timess,0.75*np.ones(len(timess)),color='r')\n",
    "\n",
    "    #ax1.tick_params(which='both', direction='in',bottom=True, top=True, left=True, right=True, labelsize=8)\n",
    "    ax2.axvline(x=timess[0]/sk,color='r',linewidth=1)\n",
    "    ax1.axvline(x=timess[0]/sk,color='r',linewidth=1)\n",
    "    ax0.axvline(x=timess[0]/sk,color='r',linewidth=1)\n",
    "\n",
    "    kondoy=np.where((pr_c_50_y[:,4]<0)&(np.abs(pr_c_50_y[:,2])>0.125))[0] \n",
    "    ax2.hist((kondoy+jj/sk+256*my_atan(pr_c_50_y[kondoy,3].flatten(),pr_c_50_y[kondoy,4].flatten())/(2*np.pi)),\\\n",
    "             bins=np.arange(0,len(belplot),20),density=True,alpha=0.5,color=\"#e6661a\")\n",
    "\n",
    "    ax2.set_xlim(0,len(belplot))\n",
    "    ax2.set_xticks(np.arange(40,len(belplot),40))\n",
    "    et=np.array(np.arange(40,len(belplot),40)*0.15)\n",
    "    ax2.set_xticklabels([])    \n",
    "    ax2.set_yticks([0,0.01,0.02])\n",
    "    #in order to have frequency and not density multiply by bin length\n",
    "    ax2.set_yticklabels([]*20)\n",
    "    ax2.tick_params(which='both', direction='in',bottom=True, top=True, left=True, right=True, labelsize=8)\n",
    "\n",
    "fig.savefig('fig1_comparePREx.pdf',bbox_inches='tight')"
   ]
  },
  {
   "cell_type": "markdown",
   "id": "7b3a79b8-d26c-4b44-b4b3-cde09ad06c0d",
   "metadata": {},
   "source": [
    "And now the y component"
   ]
  },
  {
   "cell_type": "code",
   "execution_count": 28,
   "id": "c4780e3b-491d-4035-bde1-4bcd52870875",
   "metadata": {},
   "outputs": [
    {
     "name": "stdout",
     "output_type": "stream",
     "text": [
      "n initial= 0 gap= 0\n",
      "warning!! Overlapping trajectories. gap= 0 trajectory length= 256 final_point= 256 data length 256\n",
      "5/5 [==============================] - 0s 22ms/step\n"
     ]
    },
    {
     "name": "stderr",
     "output_type": "stream",
     "text": [
      "/var/folders/q1/rhj_j2hj7t5121p5rh10b1p00000gq/T/ipykernel_11027/1974620920.py:35: RuntimeWarning: Mean of empty slice\n",
      "  lamy=np.nanmean(pr_alph,axis=0)\n",
      "/var/folders/q1/rhj_j2hj7t5121p5rh10b1p00000gq/T/ipykernel_11027/1974620920.py:99: RuntimeWarning: Mean of empty slice\n",
      "  lamsd32=np.nanmean(msd_alph32,axis=0)\n",
      "/var/folders/q1/rhj_j2hj7t5121p5rh10b1p00000gq/T/ipykernel_11027/1974620920.py:100: RuntimeWarning: Mean of empty slice\n",
      "  lamsd64=np.nanmean(msd_alph64,axis=0)\n",
      "/var/folders/q1/rhj_j2hj7t5121p5rh10b1p00000gq/T/ipykernel_11027/1974620920.py:101: RuntimeWarning: Mean of empty slice\n",
      "  lamsd256=np.nanmean(msd_alph256,axis=0)\n"
     ]
    },
    {
     "data": {
      "image/png": "[encoded data removed]",
      "text/plain": [
       "<Figure size 360x360 with 3 Axes>"
      ]
     },
     "metadata": {},
     "output_type": "display_data"
    }
   ],
   "source": [
    "\n",
    "sk=1\n",
    "timess=np.array([1023])\n",
    "#fig, (ax0, ax1, ax2) = plt.subplots(3,figsize=(10,10),sharex=True)\n",
    "fig, (ax0, ax1, ax2) = plt.subplots(3,figsize=(9/2.5,9/2.5),sharex=True)\n",
    "for jj in range(1):\n",
    "    \n",
    "    traj_len=256\n",
    "    belplot=tr[1]\n",
    "    times_c=np.empty((0,traj_len))\n",
    "    seg=np.empty((0,traj_len))\n",
    "    lab_c=np.empty((0,5))\n",
    "    for j in range(0,len(belplot)-traj_len):\n",
    "\n",
    "        times=np.arange(j,j+traj_len)\n",
    "        seg=np.append(seg,[belplot[times]],axis=0)\n",
    "        times_c=np.append(times_c,[times],axis=0)\n",
    "        lab_c=np.append(lab_c,[np.array([0,0,0,0,0])],axis=0)\n",
    "    data_c,label_c_norm,traj_c,times_c_norm=data_split(seg,times_c,labels=lab_c,\\\n",
    "                                                       start_row=0,num_row=len(belplot)-traj_len,\\\n",
    "                                                       traj_len=traj_len,n_in=0,n_samples=1,p_p=1,\\\n",
    "                                                       hmin=0.25,hmax=0.75,limith=False,normalization=True)\n",
    "    pr_c_50_y=model_change256.predict(data_c)\n",
    "\n",
    "\n",
    "    fir2=(int(np.round(traj_len*my_atan(pr_c_50_y[0,3].flatten(),pr_c_50_y[0,4].flatten())/(2*np.pi))))\n",
    "    pr_alph=np.concatenate((pr_c_50_y[0,0]*np.ones(fir2),pr_c_50_y[0,1]*np.ones(traj_len-fir2),np.full(len(pr_c_50_y),np.nan)))\n",
    "\n",
    "    for i in range(1,len(pr_c_50_y)):\n",
    "        bef=np.full(i,np.nan)\n",
    "        aft=np.full(len(pr_c_50_y)-i,np.nan)\n",
    "        fir2=(int(np.round(traj_len*my_atan(pr_c_50_y[i,3].flatten(),pr_c_50_y[i,4].flatten())/(2*np.pi))))\n",
    "        pr_alph=(np.concatenate((pr_alph,bef,pr_c_50_y[i,0]*np.ones(fir2),pr_c_50_y[i,1]*np.ones(traj_len-fir2),aft)))\n",
    "        #print(fir2)\n",
    "    pr_alph=pr_alph.reshape(-1,traj_len+len(pr_c_50_y))    \n",
    "    lamy=np.nanmean(pr_alph,axis=0)\n",
    "    \n",
    "    \n",
    "    traj_len256=256\n",
    "    times_c256=np.empty((0,traj_len256))\n",
    "    seg=np.empty((0,traj_len256))\n",
    "    lab_c256=np.empty((0,5))\n",
    "    ltot=len(belplot)-traj_len256\n",
    "    for j in range(0,ltot):\n",
    "\n",
    "        times=np.arange(j,j+traj_len256)\n",
    "\n",
    "        if(j==0):\n",
    "            msd_alph256=np.concatenate((h_exp(belplot[times],5)*np.ones(traj_len256),np.full(ltot,np.nan)))\n",
    "        else:\n",
    "\n",
    "            bef=np.full(j,np.nan)\n",
    "            aft=np.full(ltot-j,np.nan)\n",
    "            #fir2=(int(np.round(traj_len*my_atan(pr_c[i,3].flatten(),pr_c[i,4].flatten())/(2*np.pi))))\n",
    "            msd_alph256=(np.concatenate((msd_alph256,bef,h_exp(belplot[times],5)*np.ones(traj_len256),aft)))\n",
    "    msd_alph256=msd_alph256.reshape(-1,traj_len256+ltot)\n",
    "    #print(pr_c256)\n",
    "    traj_len64=64\n",
    "    times_c64=np.empty((0,traj_len64))\n",
    "    seg=np.empty((0,traj_len64))\n",
    "    lab_c64=np.empty((0,5))\n",
    "    ltot=len(belplot)-traj_len64\n",
    "    for j in range(0,ltot):\n",
    "\n",
    "        times=np.arange(j,j+traj_len64)\n",
    "\n",
    "        if(j==0):\n",
    "            msd_alph64=np.concatenate((h_exp(belplot[times],5)*np.ones(traj_len64),np.full(ltot,np.nan)))\n",
    "        else:\n",
    "\n",
    "            bef=np.full(j,np.nan)\n",
    "            aft=np.full(ltot-j,np.nan)\n",
    "            #fir2=(int(np.round(traj_len*my_atan(pr_c[i,3].flatten(),pr_c[i,4].flatten())/(2*np.pi))))\n",
    "            msd_alph64=(np.concatenate((msd_alph64,bef,h_exp(belplot[times],5)*np.ones(traj_len64),aft)))\n",
    "    msd_alph64=msd_alph64.reshape(-1,traj_len64+ltot) \n",
    "    #print(pr_c64)    \n",
    "    \n",
    "\n",
    "    traj_len32=32\n",
    "    times_c32=np.empty((0,traj_len32))\n",
    "    seg=np.empty((0,traj_len32))\n",
    "    lab_c32=np.empty((0,5))\n",
    "    ltot=len(belplot)-traj_len32\n",
    "    for j in range(0,ltot):\n",
    "\n",
    "        times=np.arange(j,j+traj_len32)\n",
    "\n",
    "        if(j==0):\n",
    "            msd_alph32=np.concatenate((h_exp(belplot[times],5)*np.ones(traj_len32),np.full(ltot,np.nan)))\n",
    "        else:\n",
    "\n",
    "            bef=np.full(j,np.nan)\n",
    "            aft=np.full(ltot-j,np.nan)\n",
    "            #fir2=(int(np.round(traj_len*my_atan(pr_c[i,3].flatten(),pr_c[i,4].flatten())/(2*np.pi))))\n",
    "            msd_alph32=(np.concatenate((msd_alph32,bef,h_exp(belplot[times],5)*np.ones(traj_len32),aft)))\n",
    "    msd_alph32=msd_alph32.reshape(-1,traj_len32+ltot)\n",
    "    #print(pr_c32)    \n",
    "\n",
    "    \n",
    "    lamsd32=np.nanmean(msd_alph32,axis=0)\n",
    "    lamsd64=np.nanmean(msd_alph64,axis=0)\n",
    "    lamsd256=np.nanmean(msd_alph256,axis=0)\n",
    "    \n",
    "    #ax0.plot(super1_s[::sk,1],color=\"#e6661a\")\n",
    "    ax0.plot(np.arange(len(belplot))+jj/sk,belplot,\"-o\",markersize=0.3, linewidth=0.2, color=((jj%3)/3,((jj+1)%3)/3,((jj+2)%3)/3))#,color=\"blue\")\n",
    "    ax0.set_xlim(0,len(belplot))\n",
    "    # ax0.plot((exp_data_ch[:,1][:timess[0]]),color=my_col(test_targets[h]),label=\"$\\\\alpha$=%.2f\" %(2*test_targets[h]))\n",
    "    # ax0.plot(np.arange(timess[0],timess[1]),(exp_data_ch[:,1][timess[0]:timess[1]]),color=my_col(test_targets[l]),label=\"$\\\\alpha$=%.2f\" %(2*test_targets[l]))\n",
    "    #ax0.plot((exp_data_ch[:,1][:timess[0]]),color=my_col((1*0.75/2+0.75/2)),label=\"$\\\\alpha$=%.2f\" %(2*(1*0.75/2+0.75/2)))\n",
    "    #ax0.plot(np.arange(timess[0],timess[1]),(exp_data_ch[:,1][timess[0]:timess[1]]),color=my_col((0*0.75/2+0.75/2)),label=\"$\\\\alpha$=%.2f\" %(2*((0*0.75/2+0.75/2))))\n",
    "    #ax0.set_ylim(-0.00003,0)\n",
    "    #ax0.tick_params(labelsize=8)\n",
    "    ax0.set_xticks(np.arange(40,len(belplot),40))\n",
    "    #ax0.set_xticklabels([0,'',500,'',1000,'',1500,'',2000])\n",
    "\n",
    "\n",
    "    \n",
    "    # ax0.set_xticklabels([''])\n",
    "    ax0.set_yticklabels([])\n",
    "\n",
    "\n",
    "\n",
    "    \n",
    "    #ax0.set_yticks([-0.00003,-0.00001,0])\n",
    "    #ax0.set_ylabel(\"position\",fontsize=14)\n",
    "    # for i in range(1,39):\n",
    "    #     if(i%2==0):\n",
    "    #         ind=l\n",
    "    #     else:\n",
    "    #         ind=h\n",
    "    #     ax0.plot(np.arange(timess[i],timess[i+1]),exp_data_ch[:,1][timess[i]:timess[i+1]],color=my_col(ind*0.5+0.75/2))\n",
    "\n",
    "    # ax0.plot(np.arange(timess[i+1],len(exp_data_ch[:,1])),exp_data_ch[:,1][timess[i+1]:len(exp_data_ch[:,1])],color=my_col(ind*0.5+0.75/2))\n",
    "\n",
    "    #ax0.plot(np.arange(2200,2456),140*np.ones(256),color=\"k\")\n",
    "    #ax0.plot(exp_data_ch[:,1]-test_many_tr[l,:timess[7]])\n",
    "    #ax0.plot(exp_data_ch[:,1]-test_many_tr[h,:timess[7]])\n",
    "    #ax0.plot(exp_data_ch[:,1]2)\n",
    "    #ax0.scatter(timess[:7], exp_data_ch[:,1][timess[:7]])\n",
    "    #ax0.legend(fontsize=8)\n",
    "    #ax0.set_xlim(0,len(exp_data_ch[:,1]))\n",
    "    #fig.tight_layout() \n",
    "    ax0.tick_params(which='both', direction='in',bottom=True, top=True, left=True, right=True, labelsize=8)\n",
    "    #ax0.legend()\n",
    "    #fig, ax1 =plt.subplots(figsize=(9/2.5,3/2.5))\n",
    "    # ax1.scatter(np.arange(0,traj_len),2*pr_c_exp_NOC[:traj_len,0],0.5,color=\"blue\",marker='v',label=\"$\\\\hat{\\\\alpha}_1$\")\n",
    "    # ax1.scatter(np.arange(len(exp_data_ch[:,1])-traj_len,len(exp_data_ch[:,1])),2*pr_c_exp_NOC[-traj_len:,1],color=\"blue\",marker='^',label=\"$\\\\hat{\\\\alpha}_2$\")\n",
    "    #ax1.plot(np.arange(traj_len,len(exp_data_ch[:,1])-traj_len),(pr_c_exp_NOC[traj_len:,0]+pr_c_exp_NOC[:-traj_len,1]),color=\"blue\",label=\"$\\\\hat{\\\\alpha}_2$\")\n",
    "\n",
    "    # ax1.scatter(np.arange(len(exp_data_ch[:,1])-traj_len,len(exp_data_ch[:,1])),2*pr_c_exp[-traj_len:,1],color=\"#e6661a\",marker='^',label=\"$\\\\hat{\\\\alpha}_2$\")\n",
    "    # ax1.plot(np.arange(traj_len,len(exp_data_ch[:,1])-traj_len),(pr_c_exp[traj_len:,0]+pr_c_exp[:-traj_len,1]),color=\"#e6661a\",label=\"$\\\\hat{\\\\alpha}_2$\")\n",
    "\n",
    "    #ax1.plot(np.arange(traj_len,len(exp_data_ch[:,1])-traj_len),(pr_c_exp_a1a2[traj_len:,0]+pr_c_exp_a1a2[:-traj_len,1]),color=\"green\",label=\"$\\\\hat{\\\\alpha}_2$\")\n",
    "    #ax1.plot(np.arange(traj_len,len(exp_data_ch[:,1])-traj_len),(pr_c_exp_a1a2[traj_len:,0])*2,color=\"red\",label=\"$\\\\hat{\\\\alpha}_2$\")\n",
    "#     ax1.scatter(np.arange(0,traj_len)+jj/sk,2*(pr_c_50_y[:traj_len,0]),0.5,color=\"#e6661a\")#,color=((jj%3)/3,((jj+1)%3)/3,((jj+2)%3)/3))#,color=\"#e6661a\",label=\"$\\\\hat{\\\\alpha}_2$\")\n",
    "\n",
    "#     ax1.scatter(np.arange(traj_len+jj/sk,len(belplot)-traj_len),(pr_c_50_y[traj_len:,0]+pr_c_50_y[:-traj_len,1]),0.5,color=\"#e6661a\")#,color=\"#e6661a\",label=\"$\\\\hat{\\\\alpha}_2$\")\n",
    "\n",
    "#     ax1.scatter(np.arange(len(belplot)-traj_len,len(belplot))+jj/sk,2*(pr_c_50_y[-traj_len:,1]),0.5,color=\"#e6661a\")#,color=\"#e6661a\",label=\"$\\\\hat{\\\\alpha}_2$\")\n",
    "    ax1.plot(np.arange(0,len(belplot))+jj/sk,2*lamy,color=\"#e6661a\")\n",
    "\n",
    "    ax1.set_xlim(0,len(belplot))\n",
    "    ax1.set_ylim(0.,2)\n",
    "    ax1.set_yticklabels([])\n",
    "    #ax1.plot(2*lamsd64,'--',color=\"gray\")\n",
    "    ax1.plot(2*lamsd256,'--',color=\"gray\")\n",
    "    ax1.plot(label)\n",
    "    ax1.tick_params(which='both', direction='in',bottom=True, top=True, left=True, right=True, labelsize=8)\n",
    "    ax1.axhline(y=1,color='k')\n",
    "\n",
    "    #ax1.plot(a1plt[256:],color='g',label='$\\\\alpha_2$')\n",
    "    #ax1.legend(fontsize=8)\n",
    "    #ax2.legend(fontsize=8)\n",
    "        #\n",
    "        # for tt in timess:\n",
    "    #     if tt>255:\n",
    "    #         x=np.arange(tt-256,tt)\n",
    "    #         ax1.plot(x,1.5*np.ones(len(x)),\"b\",linewidth=1.0,alpha=0.5)#,label=\"$t-t_c$\")\n",
    "    #     else:\n",
    "    #         x=np.arange(0,tt)\n",
    "    # #x=np.arange(2378-256,2378)\n",
    "    #         ax1.plot(x,1.5*np.ones(len(x)),\"b\",linewidth=1.0,alpha=0.5)#,label=\"$t-t_c$\")\n",
    "    #ax1.scatter(timess-256,0.75*np.ones(len(timess)),color='k')\n",
    "    #ax1.scatter(timess,0.75*np.ones(len(timess)),color='r')\n",
    "\n",
    "    #ax1.tick_params(which='both', direction='in',bottom=True, top=True, left=True, right=True, labelsize=8)\n",
    "    ax2.axvline(x=timess[0]/sk,color='r',linewidth=1)\n",
    "    ax1.axvline(x=timess[0]/sk,color='r',linewidth=1)\n",
    "    ax0.axvline(x=timess[0]/sk,color='r',linewidth=1)\n",
    "\n",
    "    kondoy=np.where((pr_c_50_y[:,4]<0)&(np.abs(pr_c_50_y[:,2])>0.125))[0] \n",
    "    ax2.hist((kondoy+jj/sk+256*my_atan(pr_c_50_y[kondoy,3].flatten(),pr_c_50_y[kondoy,4].flatten())/(2*np.pi)),\\\n",
    "             bins=np.arange(0,len(belplot),20),density=True,alpha=0.5,color=\"#e6661a\")\n",
    "\n",
    "    ax2.set_xlim(0,len(belplot))\n",
    "    ax2.set_xticks(np.arange(40,len(belplot),40))\n",
    "    et=np.array(np.arange(40,len(belplot),40)*0.15)\n",
    "    ax2.set_xticklabels([])    \n",
    "    ax2.set_yticks([0,0.01,0.02])\n",
    "    #in order to have frequency and not density multiply by bin length\n",
    "    ax2.set_yticklabels([]*20)\n",
    "    ax2.tick_params(which='both', direction='in',bottom=True, top=True, left=True, right=True, labelsize=8)\n",
    "\n",
    "fig.savefig('fig1_comparePREy.pdf',bbox_inches='tight')"
   ]
  },
  {
   "cell_type": "code",
   "execution_count": 29,
   "id": "0b7759dd-2a91-4147-8f92-8923f596e7f8",
   "metadata": {},
   "outputs": [
    {
     "data": {
      "text/plain": [
       "(0.0, 2.0)"
      ]
     },
     "execution_count": 29,
     "metadata": {},
     "output_type": "execute_result"
    },
    {
     "data": {
      "image/png": "[encoded data removed]",
      "text/plain": [
       "<Figure size 640x480 with 1 Axes>"
      ]
     },
     "metadata": {},
     "output_type": "display_data"
    }
   ],
   "source": [
    "plt.plot(np.arange(0,len(belplot))+jj/sk,2*(lamy+lamx)/2,color=\"#e6661a\")\n",
    "plt.plot(label)\n",
    "plt.ylim(0,2)"
   ]
  }
 ],
 "metadata": {
  "kernelspec": {
   "display_name": "Python 3 (ipykernel)",
   "language": "python",
   "name": "python3"
  },
  "language_info": {
   "codemirror_mode": {
    "name": "ipython",
    "version": 3
   },
   "file_extension": ".py",
   "mimetype": "text/x-python",
   "name": "python",
   "nbconvert_exporter": "python",
   "pygments_lexer": "ipython3",
   "version": "3.11.5"
  }
 },
 "nbformat": 4,
 "nbformat_minor": 5
}
